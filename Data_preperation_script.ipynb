{
 "cells": [
  {
   "cell_type": "code",
   "execution_count": 9,
   "metadata": {},
   "outputs": [],
   "source": [
    "#Importing libraries\n",
    "import pandas as pd"
   ]
  },
  {
   "cell_type": "code",
   "execution_count": 10,
   "metadata": {},
   "outputs": [
    {
     "data": {
      "text/plain": [
       "['List of tables',\n",
       " 'Total energy production',\n",
       " 'Energy balance of trade',\n",
       " 'Total energy consumption',\n",
       " 'Energy intensity of GDP',\n",
       " 'Crude oil production',\n",
       " 'Crude oil balance of trade',\n",
       " 'Crude oil input to refineries',\n",
       " 'Refined oil products productio',\n",
       " 'Oil products balance of trade',\n",
       " 'Oil products domestic consumpt',\n",
       " 'Natural gas production',\n",
       " 'Natural gas balance of trade',\n",
       " 'Natural gas domestic consumpti',\n",
       " 'Coal and lignite production',\n",
       " 'Coal and lignite balance of tr',\n",
       " 'Coal and lignite domestic cons',\n",
       " 'Electricity production',\n",
       " 'Electricity balance of trade',\n",
       " 'Electricity domestic consumpti',\n",
       " 'Share of renewables in electri',\n",
       " 'Share of wind and solar in ele',\n",
       " 'CO2 emissions from fuel combus',\n",
       " 'CO2 intensity',\n",
       " 'Abbreviations and Glossary',\n",
       " 'Geographical Coverage',\n",
       " 'Sources']"
      ]
     },
     "execution_count": 10,
     "metadata": {},
     "output_type": "execute_result"
    }
   ],
   "source": [
    "#Importing Excel file using pandas library\n",
    "xls = pd.ExcelFile('F:\\datasets\\Enerdata_Energy_Statistical_Yearbook_2018.xlsx')\n",
    "xls.sheet_names"
   ]
  },
  {
   "cell_type": "code",
   "execution_count": 11,
   "metadata": {},
   "outputs": [],
   "source": [
    "#Exctracting sheet information from excel as dataframe\n",
    "nt_gas_prd_df = pd.read_excel(xls, 'Natural gas production')\n",
    "nt_gas_con_df = pd.read_excel(xls, 'Natural gas domestic consumpti')\n",
    "coal_prd_df = pd.read_excel(xls,'Coal and lignite production')\n",
    "coal_con_df = pd.read_excel(xls,'Coal and lignite domestic cons')\n",
    "elec_prod_df = pd.read_excel(xls,'Electricity production')\n",
    "elec_con_df = pd.read_excel(xls,'Electricity domestic consumpti')\n",
    "co2_emm_df = pd.read_excel(xls, 'CO2 emissions from fuel combus')\n",
    "tl_en_pr_df = pd.read_excel(xls, 'CO2 emissions from fuel combus')\n",
    "tl_en_cn_df = pd.read_excel(xls, 'CO2 emissions from fuel combus')"
   ]
  },
  {
   "cell_type": "code",
   "execution_count": 12,
   "metadata": {},
   "outputs": [],
   "source": [
    "#Performing data transformation and melting and saving as csv file\n",
    "name = ['nt_gas_prod','nt_gas_con','coal_prd','coal_con','elec_prod','elec_con','co2_emm','tl_en_pr','tl_en_cn']\n",
    "names = iter(name)   \n",
    "for df in (nt_gas_prd_df, nt_gas_con_df, coal_prd_df, coal_con_df, elec_prod_df, elec_con_df, co2_emm_df, tl_en_pr_df, tl_en_cn_df):\n",
    "    df1 = df.drop(df.columns[[29,30]], axis=1)\n",
    "    df1 = df1.set_index(df.Country)\n",
    "    df1_trans = df1.transpose()\n",
    "    df1_trans_reset = df1_trans.reset_index()\n",
    "    df1_trans_fin = df1_trans_reset.drop(df1_trans_reset.columns[[1,2,3,4,5,6,21,26,27,30,37,46,49,54,59,60]], axis=1)\n",
    "    df1_trans_fin = df1_trans_fin.drop(df1_trans_fin.index[0])\n",
    "    df1_melt = pd.melt(df1_trans_fin, id_vars = 'index')\n",
    "    df1_melt.columns = ['Year', 'Country', 'Value']\n",
    "    df_melt = pd.DataFrame(data = df1_melt)\n",
    "    df_melt.to_csv('F:/datasets/'+ next(names) +'.csv', sep = ',') \n",
    "    "
   ]
  },
  {
   "cell_type": "code",
   "execution_count": null,
   "metadata": {},
   "outputs": [],
   "source": []
  }
 ],
 "metadata": {
  "kernelspec": {
   "display_name": "Python 3",
   "language": "python",
   "name": "python3"
  },
  "language_info": {
   "codemirror_mode": {
    "name": "ipython",
    "version": 3
   },
   "file_extension": ".py",
   "mimetype": "text/x-python",
   "name": "python",
   "nbconvert_exporter": "python",
   "pygments_lexer": "ipython3",
   "version": "3.6.4"
  }
 },
 "nbformat": 4,
 "nbformat_minor": 2
}
